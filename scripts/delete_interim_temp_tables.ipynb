{
 "cells": [
  {
   "cell_type": "code",
   "execution_count": 2,
   "metadata": {},
   "outputs": [],
   "source": [
    "from google.cloud import bigquery\n",
    "import os\n",
    "\n",
    "def set_google_credentials(credential_path):\n",
    "    \"\"\"\n",
    "    Set the GOOGLE_APPLICATION_CREDENTIALS environment variable.\n",
    "    \n",
    "    Parameters:\n",
    "    - credential_path (str): Path to the Google Cloud Service Account key.\n",
    "    \"\"\"\n",
    "    os.environ['GOOGLE_APPLICATION_CREDENTIALS'] = credential_path\n",
    "\n",
    "gc_key = '/Users/jurisildam/my_keys/ds-on-gcp-395110-36aa06996860.json'\n",
    "# Set Google Cloud credentials\n",
    "set_google_credentials(gc_key) "
   ]
  },
  {
   "cell_type": "code",
   "execution_count": 3,
   "metadata": {},
   "outputs": [
    {
     "name": "stdout",
     "output_type": "stream",
     "text": [
      "Deleted table: interim_0_100\n",
      "Deleted table: interim_1000_1100\n",
      "Deleted table: interim_100_200\n",
      "Deleted table: interim_1100_1200\n",
      "Deleted table: interim_1200_1300\n",
      "Deleted table: interim_1300_1400\n",
      "Deleted table: interim_1400_1500\n",
      "Deleted table: interim_1500_1600\n",
      "Deleted table: interim_200_300\n",
      "Deleted table: interim_300_400\n",
      "Deleted table: interim_400_500\n",
      "Deleted table: interim_500_600\n",
      "Deleted table: interim_600_700\n",
      "Deleted table: interim_700_800\n",
      "Deleted table: interim_800_900\n",
      "Deleted table: interim_900_1000\n",
      "Deleted table: temp_table_0_100_0_6d48bf015ffa4b4e97eddbe8a6867c6a\n",
      "Deleted table: temp_table_1000_1100_0_aacd65d709df424e9ed1e0dcbf3ebe18\n",
      "Deleted table: temp_table_100_200_0_7d4416df687f42c0866ee59b53436a25\n",
      "Deleted table: temp_table_1100_1200_0_fd917b4f77aa48fb8dc72ba529c7e748\n",
      "Deleted table: temp_table_1200_1300_0_7892e840bcc240c59c973e915fc8cd97\n",
      "Deleted table: temp_table_1300_1400_0_0f4e2c8702044b24a3df0ee98e840464\n",
      "Deleted table: temp_table_1400_1500_0_584946ec0d6146819cfc013303e66b59\n",
      "Deleted table: temp_table_1500_1600_0_415bdd46f37b4605952be7959d000ae7\n",
      "Deleted table: temp_table_200_300_0_e7575c518ca04205b64b0dceec578bf8\n",
      "Deleted table: temp_table_300_400_0_cce1620fb604469d9ade8409cd83ceb9\n",
      "Deleted table: temp_table_400_500_0_294c61d21fcf420fbd2db7111d82d93f\n",
      "Deleted table: temp_table_500_600_0_570c61721d634996b58679b9de87ef4b\n",
      "Deleted table: temp_table_600_700_0_a51b15e624604876a6b27399e604f5d7\n",
      "Deleted table: temp_table_700_800_0_33bb38dd51714cf998a3b9272799ea0b\n",
      "Deleted table: temp_table_800_900_0_0744c93e65fa42bc8f5a0179a5710374\n",
      "Deleted table: temp_table_900_1000_0_d37ba90f9c1a466fb559ab890f6d3af6\n",
      "Process completed.\n"
     ]
    }
   ],
   "source": [
    "# Initialize a client\n",
    "client = bigquery.Client()\n",
    "\n",
    "# Specify the project and dataset\n",
    "project_id = 'ds-on-gcp-395110'\n",
    "dataset_id = 'numerai_data'\n",
    "\n",
    "# List tables in the dataset\n",
    "tables = list(client.list_tables(f\"{project_id}.{dataset_id}\"))\n",
    "\n",
    "# Iterate through tables and delete if the name contains \"interim\" or \"temp\"\n",
    "for table in tables:\n",
    "    if \"interim\" in table.table_id or \"temp\" in table.table_id:\n",
    "        table_ref = client.dataset(dataset_id).table(table.table_id)\n",
    "        client.delete_table(table_ref)\n",
    "        print(f\"Deleted table: {table.table_id}\")\n",
    "\n",
    "print(\"Process completed.\")\n"
   ]
  },
  {
   "cell_type": "code",
   "execution_count": null,
   "metadata": {},
   "outputs": [],
   "source": []
  }
 ],
 "metadata": {
  "kernelspec": {
   "display_name": "gee_jupyter",
   "language": "python",
   "name": "python3"
  },
  "language_info": {
   "codemirror_mode": {
    "name": "ipython",
    "version": 3
   },
   "file_extension": ".py",
   "mimetype": "text/x-python",
   "name": "python",
   "nbconvert_exporter": "python",
   "pygments_lexer": "ipython3",
   "version": "3.10.8"
  },
  "orig_nbformat": 4
 },
 "nbformat": 4,
 "nbformat_minor": 2
}
